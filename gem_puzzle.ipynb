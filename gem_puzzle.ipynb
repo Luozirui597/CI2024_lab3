{
 "cells": [
  {
   "cell_type": "markdown",
   "metadata": {},
   "source": [
    "First, we need a 'chessboard' to hold numbers."
   ]
  },
  {
   "cell_type": "code",
   "execution_count": 1,
   "metadata": {},
   "outputs": [],
   "source": [
    "from collections import deque,namedtuple\n",
    "from random import choice\n",
    "from tqdm import tqdm\n",
    "import numpy as np"
   ]
  },
  {
   "cell_type": "code",
   "execution_count": 2,
   "metadata": {},
   "outputs": [],
   "source": [
    "PUZZLE_DIM = 3\n",
    "Action = namedtuple('Action', ['pos1', 'pos2'])\n",
    "\n",
    "TARGET_STATE = np.array([i for i in range(1, PUZZLE_DIM**2)] + [0]).reshape((PUZZLE_DIM, PUZZLE_DIM))\n"
   ]
  },
  {
   "cell_type": "code",
   "execution_count": 3,
   "metadata": {},
   "outputs": [],
   "source": [
    "\n",
    "def available_actions(state: np.ndarray) -> list[Action]:\n",
    "    \"\"\"Get all possible exchange moves for the current board state\"\"\"\n",
    "    x, y = [int(_[0]) for _ in np.where(state == 0)]  # Get the position of the space (0)\n",
    "    actions = list()\n",
    "    # Determine if it can move up, down, left and right\n",
    "    if x > 0:\n",
    "        actions.append(Action((x, y), (x - 1, y)))\n",
    "    if x < PUZZLE_DIM - 1:\n",
    "        actions.append(Action((x, y), (x + 1, y)))\n",
    "    if y > 0:\n",
    "        actions.append(Action((x, y), (x, y - 1)))\n",
    "    if y < PUZZLE_DIM - 1:\n",
    "        actions.append(Action((x, y), (x, y + 1)))\n",
    "    return actions\n",
    "\n",
    "def do_action(state: np.ndarray, action: Action) -> np.ndarray:\n",
    "    \"\"\"Swap two elements\"\"\"\n",
    "    new_state = state.copy()\n",
    "    new_state[action.pos1], new_state[action.pos2] = new_state[action.pos2], new_state[action.pos1]\n",
    "    return new_state"
   ]
  },
  {
   "cell_type": "code",
   "execution_count": 4,
   "metadata": {},
   "outputs": [],
   "source": [
    "def generate_puzzle(num_moves=100_000) -> np.ndarray:\n",
    "    \"\"\"Randomly generate a disrupted board state\"\"\"\n",
    "    state = np.array([i for i in range(1, PUZZLE_DIM**2)] + [0]).reshape((PUZZLE_DIM, PUZZLE_DIM))\n",
    "    for _ in tqdm(range(num_moves), desc=\"Randomizing\"):\n",
    "        actions = available_actions(state)\n",
    "        state = do_action(state, choice(actions))  # Execute a random action\n",
    "    return state"
   ]
  },
  {
   "cell_type": "code",
   "execution_count": 5,
   "metadata": {},
   "outputs": [
    {
     "name": "stderr",
     "output_type": "stream",
     "text": [
      "Randomizing: 100%|██████████| 160/160 [00:00<00:00, 79977.19it/s]"
     ]
    },
    {
     "name": "stdout",
     "output_type": "stream",
     "text": [
      "Initial state:\n",
      "[[0 4 2]\n",
      " [6 1 8]\n",
      " [5 7 3]]\n"
     ]
    },
    {
     "name": "stderr",
     "output_type": "stream",
     "text": [
      "\n"
     ]
    }
   ],
   "source": [
    "initial_state = generate_puzzle(num_moves=160)\n",
    "\n",
    "print(\"Initial state:\")\n",
    "print(initial_state)"
   ]
  },
  {
   "cell_type": "markdown",
   "metadata": {},
   "source": [
    "Now, get a random 'chessboard' and then I used bfs to solve the problem"
   ]
  },
  {
   "cell_type": "code",
   "execution_count": 6,
   "metadata": {},
   "outputs": [],
   "source": [
    "def bfs(initial_state: np.ndarray) -> list[Action]:\n",
    "    \n",
    "    target_state = np.array([i for i in range(1, PUZZLE_DIM**2)] + [0]).reshape((PUZZLE_DIM, PUZZLE_DIM))\n",
    "    visited = set()\n",
    "    queue = deque([(initial_state, [], 0)])  # stores the current state and the path to that state\n",
    "    action_count = 0\n",
    "\n",
    "    while queue:\n",
    "        state, path, cost = queue.popleft()\n",
    "\n",
    "        if np.array_equal(state, target_state):\n",
    "            print(\"Solution found!\")\n",
    "            print(f\"Total number of actions evaluated (cost): {action_count}\")\n",
    "            return path\n",
    "\n",
    "        state_key = tuple(state.flatten())  \n",
    "        if state_key in visited:\n",
    "            continue\n",
    "        visited.add(state_key)\n",
    "\n",
    "        actions = available_actions(state)\n",
    "        for act in actions:\n",
    "            new_state = do_action(state, act)\n",
    "            if tuple(new_state.flatten()) not in visited:\n",
    "                queue.append((new_state, path + [act], cost + 1))\n",
    "                action_count += 1\n",
    "\n",
    "    return []"
   ]
  },
  {
   "cell_type": "code",
   "execution_count": 7,
   "metadata": {},
   "outputs": [
    {
     "name": "stdout",
     "output_type": "stream",
     "text": [
      "Solution found!\n",
      "Total number of actions evaluated (cost): 16867\n",
      "Solution found with 16 moves!\n",
      "Solution path:\n",
      "Move: Action(pos1=(0, 0), pos2=(0, 1))\n",
      "Move: Action(pos1=(0, 1), pos2=(1, 1))\n",
      "Move: Action(pos1=(1, 1), pos2=(1, 0))\n",
      "Move: Action(pos1=(1, 0), pos2=(2, 0))\n",
      "Move: Action(pos1=(2, 0), pos2=(2, 1))\n",
      "Move: Action(pos1=(2, 1), pos2=(1, 1))\n",
      "Move: Action(pos1=(1, 1), pos2=(1, 2))\n",
      "Move: Action(pos1=(1, 2), pos2=(2, 2))\n",
      "Move: Action(pos1=(2, 2), pos2=(2, 1))\n",
      "Move: Action(pos1=(2, 1), pos2=(1, 1))\n",
      "Move: Action(pos1=(1, 1), pos2=(1, 0))\n",
      "Move: Action(pos1=(1, 0), pos2=(0, 0))\n",
      "Move: Action(pos1=(0, 0), pos2=(0, 1))\n",
      "Move: Action(pos1=(0, 1), pos2=(0, 2))\n",
      "Move: Action(pos1=(0, 2), pos2=(1, 2))\n",
      "Move: Action(pos1=(1, 2), pos2=(2, 2))\n"
     ]
    }
   ],
   "source": [
    "solution = bfs(initial_state)\n",
    "if solution:\n",
    "    print(f\"Solution found with {len(solution)} moves!\")\n",
    "    print(\"Solution path:\")\n",
    "    for move in solution:\n",
    "        print(f\"Move: {move}\")\n",
    "        \n",
    "else:\n",
    "    print(\"No solution found.\")"
   ]
  },
  {
   "cell_type": "markdown",
   "metadata": {},
   "source": [
    "This BFS is a “dumb” approach, and it is not as efficient when n > 3.\n",
    "\n",
    "Next try the Greedy Search."
   ]
  },
  {
   "cell_type": "code",
   "execution_count": 8,
   "metadata": {},
   "outputs": [],
   "source": [
    "TARGET_STATE = np.array([i for i in range(1, PUZZLE_DIM**2)] + [0]).reshape((PUZZLE_DIM, PUZZLE_DIM))\n",
    "#With the target state, perhaps I can search from back to front"
   ]
  },
  {
   "cell_type": "markdown",
   "metadata": {},
   "source": [
    "With more learning on the Internet, this is the Manhattan distance function for evaluating the distance between the current state and the target state. Since only up and down are considered, the diagonal distance is not calculated. Then the Manhattan distance is a good representation of the expected distance."
   ]
  },
  {
   "cell_type": "code",
   "execution_count": 9,
   "metadata": {},
   "outputs": [],
   "source": [
    "def manhattan_distance(state: np.ndarray) -> int:\n",
    "    distance = 0\n",
    "    for i in range(PUZZLE_DIM):\n",
    "        for j in range(PUZZLE_DIM):\n",
    "            value = state[i, j]\n",
    "            if value != 0:\n",
    "                target_x, target_y = divmod(value - 1, PUZZLE_DIM)\n",
    "                distance += abs(target_x - i) + abs(target_y - j)\n",
    "    return distance"
   ]
  },
  {
   "cell_type": "code",
   "execution_count": 10,
   "metadata": {},
   "outputs": [],
   "source": [
    "#Greedy Search\n",
    "def greedy_search(initial_state: np.ndarray) -> list[Action]:\n",
    "  target_state = np.array([i for i in range(1, PUZZLE_DIM**2)] + [0]).reshape((PUZZLE_DIM, PUZZLE_DIM))\n",
    "  visited = set()\n",
    "  queue = deque([(initial_state, [])])  # stores the current state and the path to that state\n",
    "  cost = 0  # Initialize cost (evaluated states)\n",
    "\n",
    "  while queue:\n",
    "        state, path = queue.popleft()\n",
    "\n",
    "        # 如果到达目标状态，返回路径\n",
    "        if np.array_equal(state, target_state):\n",
    "            print(f\"COST: {cost} states evaluated.\")\n",
    "            return path\n",
    "\n",
    "        state_key = tuple(state.flatten())\n",
    "        if state_key in visited:\n",
    "            continue\n",
    "        visited.add(state_key)\n",
    "\n",
    "        actions = available_actions(state)\n",
    "        for act in actions:\n",
    "            new_state = do_action(state, act)\n",
    "            if tuple(new_state.flatten()) not in visited:\n",
    "                queue.append((new_state, path + [act]))\n",
    "        \n",
    "        # 更新评估的状态数量\n",
    "        cost += 1\n",
    "\n",
    "    # 如果没有找到目标状态，输出cost\n",
    "  print(f\"COST: {cost} states evaluated.\")\n",
    "  return []"
   ]
  },
  {
   "cell_type": "code",
   "execution_count": 11,
   "metadata": {},
   "outputs": [
    {
     "name": "stdout",
     "output_type": "stream",
     "text": [
      "COST: 10421 states evaluated.\n",
      "Solution found with 16 moves!\n",
      "Solution path:\n",
      "Move: Action(pos1=(0, 0), pos2=(0, 1))\n",
      "Move: Action(pos1=(0, 1), pos2=(1, 1))\n",
      "Move: Action(pos1=(1, 1), pos2=(1, 0))\n",
      "Move: Action(pos1=(1, 0), pos2=(2, 0))\n",
      "Move: Action(pos1=(2, 0), pos2=(2, 1))\n",
      "Move: Action(pos1=(2, 1), pos2=(1, 1))\n",
      "Move: Action(pos1=(1, 1), pos2=(1, 2))\n",
      "Move: Action(pos1=(1, 2), pos2=(2, 2))\n",
      "Move: Action(pos1=(2, 2), pos2=(2, 1))\n",
      "Move: Action(pos1=(2, 1), pos2=(1, 1))\n",
      "Move: Action(pos1=(1, 1), pos2=(1, 0))\n",
      "Move: Action(pos1=(1, 0), pos2=(0, 0))\n",
      "Move: Action(pos1=(0, 0), pos2=(0, 1))\n",
      "Move: Action(pos1=(0, 1), pos2=(0, 2))\n",
      "Move: Action(pos1=(0, 2), pos2=(1, 2))\n",
      "Move: Action(pos1=(1, 2), pos2=(2, 2))\n",
      "No solution found.\n"
     ]
    }
   ],
   "source": [
    "solution = greedy_search(initial_state)\n",
    "if solution:\n",
    "  print(f\"Solution found with {len(solution)} moves!\")\n",
    "  print(\"Solution path:\")\n",
    "  for move in solution:\n",
    "      print(f\"Move: {move}\")\n",
    "  else:\n",
    "      print(\"No solution found.\")"
   ]
  }
 ],
 "metadata": {
  "kernelspec": {
   "display_name": ".venv",
   "language": "python",
   "name": "python3"
  },
  "language_info": {
   "codemirror_mode": {
    "name": "ipython",
    "version": 3
   },
   "file_extension": ".py",
   "mimetype": "text/x-python",
   "name": "python",
   "nbconvert_exporter": "python",
   "pygments_lexer": "ipython3",
   "version": "3.12.7"
  }
 },
 "nbformat": 4,
 "nbformat_minor": 2
}
