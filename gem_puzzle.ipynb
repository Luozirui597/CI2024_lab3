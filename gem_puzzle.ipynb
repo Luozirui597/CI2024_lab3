{
 "cells": [
  {
   "cell_type": "markdown",
   "metadata": {},
   "source": [
    "First, we need a 'chessboard' to hold numbers."
   ]
  },
  {
   "cell_type": "code",
   "execution_count": 1,
   "metadata": {},
   "outputs": [],
   "source": [
    "import random\n",
    "import copy"
   ]
  },
  {
   "cell_type": "code",
   "execution_count": 2,
   "metadata": {},
   "outputs": [],
   "source": [
    "def generate_puzzle(n):\n",
    "  numbers = list(range(n * n))\n",
    "  while True:\n",
    "    random.shuffle(numbers)\n",
    "    board = [numbers[i: i + n] for i in range(0, len(numbers), n)]\n",
    "    return board"
   ]
  },
  {
   "cell_type": "code",
   "execution_count": 33,
   "metadata": {},
   "outputs": [
    {
     "name": "stdout",
     "output_type": "stream",
     "text": [
      "random initial board:\n",
      "[10, 0, 12, 11, 8]\n",
      "[20, 4, 1, 14, 16]\n",
      "[21, 22, 3, 9, 23]\n",
      "[19, 24, 6, 7, 2]\n",
      "[5, 17, 18, 13, 15]\n"
     ]
    }
   ],
   "source": [
    "n = 5\n",
    "random_board = generate_puzzle(n)\n",
    "\n",
    "print(\"random initial board:\")\n",
    "for row in random_board:\n",
    "    print(row)"
   ]
  },
  {
   "cell_type": "markdown",
   "metadata": {},
   "source": [
    "Now, get a 'chessboard'"
   ]
  }
 ],
 "metadata": {
  "kernelspec": {
   "display_name": "Python 3",
   "language": "python",
   "name": "python3"
  },
  "language_info": {
   "codemirror_mode": {
    "name": "ipython",
    "version": 3
   },
   "file_extension": ".py",
   "mimetype": "text/x-python",
   "name": "python",
   "nbconvert_exporter": "python",
   "pygments_lexer": "ipython3",
   "version": "3.12.7"
  }
 },
 "nbformat": 4,
 "nbformat_minor": 2
}
